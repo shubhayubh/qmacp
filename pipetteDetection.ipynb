{
 "cells": [
  {
   "cell_type": "code",
   "execution_count": null,
   "metadata": {
    "collapsed": true
   },
   "outputs": [],
   "source": [
    "using HDF5,PyPlot,Cairo, Images, Colors\n"
   ]
  },
  {
   "cell_type": "code",
   "execution_count": null,
   "metadata": {},
   "outputs": [],
   "source": [
    "println(\"kernel is working\")"
   ]
  },
  {
   "cell_type": "code",
   "execution_count": null,
   "metadata": {},
   "outputs": [],
   "source": [
    "################ load image array from h5 file ##########\n",
    "#########################################################\n",
    "path = \"/mnt/data/rolilab/rawFiles_2/viscosityProject\"\n",
    "folders = readdir(path)\n",
    "count = length(readdir(path*\"/\"*folders[1]))\n",
    "#ASSUMING THAT EACH pvp% HAS THE SAME # OF TRIALS, count\n",
    "subfolders = fill(\"\",4,count)\n",
    "foldersPath = fill(\"\",4)\n",
    "subfoldersPath = fill(\"\",4,count)\n",
    "fileNames = fill(\"\",4,count)\n",
    "filePaths = fill(\"\",4,count)\n",
    "\n",
    "for i =  1:length(folders)\n",
    "    #i = PVP%\n",
    "    foldersPath[i] = (path*\"/\"*folders[i])\n",
    "    foo = readdir(foldersPath[i])\n",
    "    for j = 1:length(subfolders[1,:])\n",
    "        #j = trial number\n",
    "        subfolders[i,j] = foo[j]\n",
    "        subfoldersPath[i,j] = foldersPath[i]*\"/\"*subfolders[i,j]\n",
    "        fileNames[i,j] = readdir(subfoldersPath[i,j])[1]\n",
    "        filePaths[i,j] = subfoldersPath[i,j]*\"/\"*fileNames[i,j]\n",
    "    end\n",
    "    \n",
    "end\n",
    "println(\"All files saved\")\n",
    "\n",
    "#file = h5open(mainFolder*\"/\"*filename,\"r\")\n",
    "#image = read(file[\"images\"])\n",
    "#size(image)"
   ]
  },
  {
   "cell_type": "code",
   "execution_count": null,
   "metadata": {
    "collapsed": true
   },
   "outputs": [],
   "source": [
    "################## display movie #########################\n",
    "###########################################################\n",
    "# step = 1\n",
    "# startframe = 580\n",
    "# endframe = 700\n",
    "\n",
    "# for i = startframe:step:endframe\n",
    "# i =604\n",
    "# #transform frames into UInt8 \n",
    "#     img = round(UInt8,image(i)*1) \n",
    "#    img = image[:,:,i]\n",
    "#    imgRgb = cat(3,img',img',img')\n",
    "#    display(colorim(imgRgb[:,:,:])); \n",
    "#      println(i)\n",
    "#     IJulia.clear_output(true)\n",
    "# end\n"
   ]
  },
  {
   "cell_type": "code",
   "execution_count": null,
   "metadata": {},
   "outputs": [],
   "source": [
    "################## store maximum index #############\n",
    "#######################################################\n",
    "maxValues = Array{Int64}(4,count)\n",
    "for i =  1:length(folders)       \n",
    "    for j = 1:length(subfolders[1,:])\n",
    "        file = h5open(filePaths[i,j],\"r\")\n",
    "        image = read(file[\"images\"])        \n",
    "        sizeOfObj = zeros(1, size(image,3))\n",
    "        for n = 500:700\n",
    "\n",
    "            img1 = float(image[:,:,n-1])\n",
    "            img2 = float(image[:,:,n])\n",
    "\n",
    "\n",
    "            # img1 = float(image[:,:,600])\n",
    "            #  img2 = float(image[:,:,601])\n",
    "\n",
    "            imgSub = (img2 - img1)\n",
    "\n",
    "\n",
    "            indThresd = find(imgSub .> 10)\n",
    "\n",
    "            imgSub2 = zeros(UInt8, size(imgSub,1),size(imgSub,2))\n",
    "            #display(imgSub2)\n",
    "            imgSub2[indThresd] = 255\n",
    "\n",
    "                sizeOfObj[1,n] = length(indThresd)\n",
    "\n",
    "            # #######rid of negative values#######\n",
    "\n",
    "            # for j = 1:1:\n",
    "\n",
    "\n",
    "            # end\n",
    "\n",
    "            # imgRgb = cat(3,imgSub2',imgSub2',imgSub2')\n",
    "            #  imgRgb = cat(3,img1',img1',img1')\n",
    "            #  imgRgb = cat(3,img2',img2',img2')\n",
    "\n",
    "            #    display(colorim(imgRgb[:,:,:])); \n",
    "\n",
    "            #     println(n)\n",
    "            #     IJulia.clear_output(true)\n",
    "\n",
    "       end\n",
    "        maxValues[i,j] = indmax(sizeOfObj)\n",
    "    end\n",
    "end\n",
    "#################### SHOW MAX VALUE MATRIX #################################################\n",
    "###########################################################################\n",
    "display(maxValues)"
   ]
  },
  {
   "cell_type": "code",
   "execution_count": null,
   "metadata": {
    "collapsed": true
   },
   "outputs": [],
   "source": [
    "#################### PLOT #################################################\n",
    "###########################################################################\n",
    "\n",
    "\n",
    "# plot(sizeOfObj', \"k.\")\n",
    "\n",
    "\n",
    "# indmax(sizeOfObj)"
   ]
  },
  {
   "cell_type": "code",
   "execution_count": null,
   "metadata": {
    "collapsed": true
   },
   "outputs": [],
   "source": [
    "#################### save H5 file in save folder with same name ###########\n",
    "###########################################################################\n",
    "for i =  1:length(folders)       \n",
    "    for j = 1:length(subfolders[1,:])\n",
    "        h5open(subfoldersPath[i,j]*\"/\"*\"TIME\"*fileNames[i,j][5:end], \"w\") do file\n",
    "            data = h5open(filePaths[i,j],\"r\")\n",
    "            image = read(data[\"images\"])\n",
    "            write(file, \"timeOfInjection\", maxValues[i,j])\n",
    "            write(file, \"PVP%\", i-1)\n",
    "            f = maxValues[i,j]\n",
    "            write(file, \"injectionFrame\", image[:,:,f])\n",
    "        end\n",
    "    end\n",
    "end"
   ]
  },
  {
   "cell_type": "code",
   "execution_count": null,
   "metadata": {},
   "outputs": [],
   "source": [
    "for i =  1:length(folders)       \n",
    "    for j = 1:length(subfolders[1,:])\n",
    "        c = h5open(subfoldersPath[i,j]*\"/\"*\"TIME\"*fileNames[i,j][5:end], \"r\") do file\n",
    "            image = read(file[\"injectionFrame\"])\n",
    "            imgRgb = cat(3,image',image',image')\n",
    "            println(read(file, \"timeOfInjection\"))\n",
    "            display(colorim(imgRgb[:,:,:])); \n",
    "        end\n",
    "    end\n",
    "end"
   ]
  },
  {
   "cell_type": "code",
   "execution_count": null,
   "metadata": {
    "collapsed": true
   },
   "outputs": [],
   "source": []
  }
 ],
 "metadata": {
  "kernelspec": {
   "display_name": "Julia 0.5.2",
   "language": "julia",
   "name": "julia-0.5"
  },
  "language_info": {
   "file_extension": ".jl",
   "mimetype": "application/julia",
   "name": "julia",
   "version": "0.5.2"
  }
 },
 "nbformat": 4,
 "nbformat_minor": 1
}
